{
 "cells": [
  {
   "cell_type": "code",
   "execution_count": 2,
   "metadata": {},
   "outputs": [
    {
     "ename": "ImportError",
     "evalue": "attempted relative import with no known parent package",
     "output_type": "error",
     "traceback": [
      "\u001b[0;31m---------------------------------------------------------------------------\u001b[0m",
      "\u001b[0;31mImportError\u001b[0m                               Traceback (most recent call last)",
      "Cell \u001b[0;32mIn[2], line 7\u001b[0m\n\u001b[1;32m      3\u001b[0m \u001b[38;5;28;01mimport\u001b[39;00m \u001b[38;5;21;01mgc\u001b[39;00m\n\u001b[1;32m      5\u001b[0m \u001b[38;5;28;01mimport\u001b[39;00m \u001b[38;5;21;01mtensorflow\u001b[39;00m \u001b[38;5;28;01mas\u001b[39;00m \u001b[38;5;21;01mtf\u001b[39;00m\n\u001b[0;32m----> 7\u001b[0m \u001b[38;5;28;01mfrom\u001b[39;00m \u001b[38;5;21;01m.\u001b[39;00m\u001b[38;5;21;01mmodel\u001b[39;00m\u001b[38;5;21;01m.\u001b[39;00m\u001b[38;5;21;01mdestr_model\u001b[39;00m \u001b[38;5;28;01mimport\u001b[39;00m ObjDetSplitTransformer, train_one_step, validate\n\u001b[1;32m      8\u001b[0m \u001b[38;5;28;01mfrom\u001b[39;00m \u001b[38;5;21;01m.\u001b[39;00m\u001b[38;5;21;01mutils\u001b[39;00m\u001b[38;5;21;01m.\u001b[39;00m\u001b[38;5;21;01mdata_loader\u001b[39;00m \u001b[38;5;28;01mimport\u001b[39;00m load_data_tfrecord\n",
      "\u001b[0;31mImportError\u001b[0m: attempted relative import with no known parent package"
     ]
    }
   ],
   "source": [
    "import os\n",
    "import json\n",
    "import gc\n",
    "\n",
    "import tensorflow as tf\n",
    "\n",
    "from .model.destr_model import ObjDetSplitTransformer, train_one_step, validate\n",
    "from .utils.data_loader import load_data_tfrecord"
   ]
  },
  {
   "cell_type": "code",
   "execution_count": null,
   "metadata": {},
   "outputs": [],
   "source": [
    "with open('./config.json', 'r') as fin:\n",
    "    config = json.load(fin)"
   ]
  },
  {
   "cell_type": "code",
   "execution_count": null,
   "metadata": {},
   "outputs": [],
   "source": [
    "#tf.keras.mixed_precision.set_global_policy(\"mixed_float16\")"
   ]
  },
  {
   "cell_type": "code",
   "execution_count": null,
   "metadata": {},
   "outputs": [],
   "source": [
    "destr_block = ObjDetSplitTransformer(input_shape=config['model']['input_shape'], num_cls=config['model']['num_class'])\n",
    "\n",
    "img = tf.keras.Input(shape=config['model']['input_shape'], dtype=tf.float32)\n",
    "cls_output, reg_output, total_proposals = destr_block(img)\n",
    "\n",
    "model = tf.keras.Model(inputs=img, outputs=[cls_output, reg_output, total_proposals])"
   ]
  },
  {
   "cell_type": "code",
   "execution_count": null,
   "metadata": {},
   "outputs": [],
   "source": [
    "# Load the weights from latest checkpoint\n",
    "\n",
    "checkpoint = tf.train.Checkpoint(model=model)\n",
    "checkpoint_manager = tf.train.CheckpointManager(checkpoint=checkpoint, directory=config['paths']['to_checkpoint'], max_to_keep=1)\n",
    "\n",
    "load_from_ckpt = False\n",
    "if load_from_ckpt:\n",
    "    status = checkpoint.restore(checkpoint_manager.latest_checkpoint)"
   ]
  },
  {
   "cell_type": "code",
   "execution_count": null,
   "metadata": {},
   "outputs": [],
   "source": [
    "loss_history = {'train_loss': (0, 0), 'valid_loss': (0, 0)}\n",
    "optimizer = tf.keras.optimizers.Adam(learning_rate=config['train']['learning_rate'])\n",
    "full_dataset = load_data_tfrecord(path_to_tfrecord=config['paths']['to_dataset_local'])\n",
    "\n",
    "train_progress_bar = tf.keras.utils.Progbar(config['train']['num_train_samples'])\n",
    "valid_progress_bar = tf.keras.utils.Progbar(config['train']['num_valid_samples'])\n",
    "\n",
    "for epoch_idx in range(config['train']['num_epochs']):\n",
    "    dataset = full_dataset.shuffle(buffer_size=config['train']['shuffle_buffer']).batch(batch_size=config['train']['batch_size'], drop_remainder=True)\n",
    "\n",
    "    train_dataset = dataset.take(count=config['train']['num_train_samples']).prefetch(buffer_size=tf.data.AUTOTUNE)\n",
    "    valid_dataset = dataset.skip(count=config['train']['num_train_samples']).prefetch(buffer_size=tf.data.AUTOTUNE)\n",
    "\n",
    "    total_md_loss, total_loss, step = 0, 0, 0\n",
    "    for batch in train_dataset:\n",
    "        logits, coord, label, oh_label = batch\n",
    "        \n",
    "        mini_det_loss, model_loss = train_one_step(\n",
    "                model, optimizer, \n",
    "                tf.reshape(tf.cast(tf.io.decode_raw(logits, tf.uint8), tf.float32), shape=[-1]+config['model']['input_shape']), \n",
    "                tf.concat([label[..., tf.newaxis], oh_label, coord], axis=-1)\n",
    "            )\n",
    "        total_md_loss += mini_det_loss.numpy()\n",
    "        total_loss += model_loss.numpy()\n",
    "\n",
    "        step += 1\n",
    "        train_progress_bar.update(step)\n",
    "        if step == config['train']['num_train_samples']:\n",
    "            avg_mini_det_loss = total_md_loss / config['train']['num_train_samples']\n",
    "            avg_model_loss = total_loss / config['train']['num_train_samples']\n",
    "            break\n",
    "    loss_history['train_loss'] = (avg_mini_det_loss, avg_model_loss)\n",
    "\n",
    "    del dataset, train_dataset\n",
    "    gc.collect()\n",
    "\n",
    "    total_md_loss, total_loss, step = 0, 0, 0\n",
    "    for batch in valid_dataset:\n",
    "        logits, coord, label, oh_label = batch\n",
    "        \n",
    "        mini_det_loss, model_loss = validate(\n",
    "                model, \n",
    "                tf.reshape(tf.cast(tf.io.decode_raw(logits, tf.uint8), tf.float32), shape=[-1] + config['model']['input_shape']), \n",
    "                tf.concat([label[..., tf.newaxis], oh_label, coord], axis=-1)\n",
    "            )\n",
    "        total_md_loss += mini_det_loss.numpy()\n",
    "        total_loss += model_loss.numpy()\n",
    "\n",
    "        step += 1\n",
    "        valid_progress_bar.update(step)\n",
    "        if step == config['train']['num_valid_samples']:\n",
    "            avg_mini_det_loss = total_md_loss / config['train']['num_valid_samples']\n",
    "            avg_model_loss = total_loss / config['train']['num_valid_samples']\n",
    "            break\n",
    "    loss_history['valid_loss'] = (avg_mini_det_loss, avg_model_loss)\n",
    "    \n",
    "    # Save parameters after each epoch\n",
    "    checkpoint_manager.save()\n",
    "    \n",
    "    del valid_dataset\n",
    "    tf.keras.backend.clear_session()\n",
    "    gc.collect()\n",
    "\n",
    "    print(f'''epoch {epoch_idx+1:>2}: \\n\n",
    "          \\t train_loss: {loss_history[\"train_loss\"][0]:.4f} {loss_history[\"train_loss\"][1]:.4f},\n",
    "          \\t valid loss: {loss_history[\"valid_loss\"][0]:.4f} {loss_history[\"valid_loss\"][1]:.4f}''')\n",
    "    with open(config['paths']['to_loss_records'], mode='w') as fout:\n",
    "        print(f'''epoch {epoch_idx+1:>2}: \\n\n",
    "          \\t train_loss: {loss_history[\"train_loss\"][0]:.4f} {loss_history[\"train_loss\"][1]:.4f},\n",
    "          \\t valid loss: {loss_history[\"valid_loss\"][0]:.4f} {loss_history[\"valid_loss\"][1]:.4f}''', file=fout)"
   ]
  },
  {
   "cell_type": "code",
   "execution_count": null,
   "metadata": {},
   "outputs": [],
   "source": [
    "#model.load_weights('/workspace/models/destr_20')\n",
    "#weights = model.get_weight()\n",
    "#model.set_weights(weights)"
   ]
  }
 ],
 "metadata": {
  "kernelspec": {
   "display_name": "Python 3",
   "language": "python",
   "name": "python3"
  },
  "language_info": {
   "codemirror_mode": {
    "name": "ipython",
    "version": 3
   },
   "file_extension": ".py",
   "mimetype": "text/x-python",
   "name": "python",
   "nbconvert_exporter": "python",
   "pygments_lexer": "ipython3",
   "version": "3.12.4"
  }
 },
 "nbformat": 4,
 "nbformat_minor": 2
}
