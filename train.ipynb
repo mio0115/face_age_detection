{
 "cells": [
  {
   "cell_type": "code",
   "execution_count": 2,
   "metadata": {},
   "outputs": [
    {
     "name": "stderr",
     "output_type": "stream",
     "text": [
      "2024-07-06 20:47:00.672022: I external/local_tsl/tsl/cuda/cudart_stub.cc:32] Could not find cuda drivers on your machine, GPU will not be used.\n",
      "2024-07-06 20:47:00.674367: I external/local_tsl/tsl/cuda/cudart_stub.cc:32] Could not find cuda drivers on your machine, GPU will not be used.\n",
      "2024-07-06 20:47:00.681805: E external/local_xla/xla/stream_executor/cuda/cuda_fft.cc:479] Unable to register cuFFT factory: Attempting to register factory for plugin cuFFT when one has already been registered\n",
      "2024-07-06 20:47:00.695828: E external/local_xla/xla/stream_executor/cuda/cuda_dnn.cc:10575] Unable to register cuDNN factory: Attempting to register factory for plugin cuDNN when one has already been registered\n",
      "2024-07-06 20:47:00.695858: E external/local_xla/xla/stream_executor/cuda/cuda_blas.cc:1442] Unable to register cuBLAS factory: Attempting to register factory for plugin cuBLAS when one has already been registered\n",
      "2024-07-06 20:47:00.705723: I tensorflow/core/platform/cpu_feature_guard.cc:210] This TensorFlow binary is optimized to use available CPU instructions in performance-critical operations.\n",
      "To enable the following instructions: AVX2 FMA, in other operations, rebuild TensorFlow with the appropriate compiler flags.\n",
      "2024-07-06 20:47:01.328901: W tensorflow/compiler/tf2tensorrt/utils/py_utils.cc:38] TF-TRT Warning: Could not find TensorRT\n",
      "2024-07-06 20:47:01.975339: I external/local_xla/xla/stream_executor/cuda/cuda_executor.cc:998] successful NUMA node read from SysFS had negative value (-1), but there must be at least one NUMA node, so returning NUMA node zero. See more at https://github.com/torvalds/linux/blob/v6.0/Documentation/ABI/testing/sysfs-bus-pci#L344-L355\n",
      "2024-07-06 20:47:01.975769: W tensorflow/core/common_runtime/gpu/gpu_device.cc:2251] Cannot dlopen some GPU libraries. Please make sure the missing libraries mentioned above are installed properly if you would like to use GPU. Follow the guide at https://www.tensorflow.org/install/gpu for how to download and setup the required libraries for your platform.\n",
      "Skipping registering GPU devices...\n"
     ]
    }
   ],
   "source": [
    "import os\n",
    "import json\n",
    "import gc\n",
    "\n",
    "import cv2\n",
    "import tensorflow as tf\n",
    "\n",
    "from model.destr_model import ObjDetSplitTransformer, train_one_step, validate\n",
    "from utils.data_loader import load_data_tfrecord"
   ]
  },
  {
   "cell_type": "code",
   "execution_count": 9,
   "metadata": {},
   "outputs": [],
   "source": [
    "with open('./config.json', 'r') as fin:\n",
    "    config = json.load(fin)"
   ]
  },
  {
   "cell_type": "code",
   "execution_count": null,
   "metadata": {},
   "outputs": [],
   "source": [
    "destr_block = ObjDetSplitTransformer(input_shape=config['model']['input_shape'], num_cls=config['model']['num_class'])\n",
    "\n",
    "img = tf.keras.Input(shape=config['model']['input_shape'], dtype=tf.float32)\n",
    "cls_output, reg_output, total_proposals = destr_block(img)\n",
    "\n",
    "model = tf.keras.Model(inputs=img, outputs=[cls_output, reg_output, total_proposals])"
   ]
  },
  {
   "cell_type": "code",
   "execution_count": null,
   "metadata": {},
   "outputs": [],
   "source": [
    "# Load the weights from latest checkpoint\n",
    "\n",
    "load_from_ckpt = False\n",
    "if load_from_ckpt:\n",
    "    checkpoint = tf.train.Checkpoint(model=model)\n",
    "    status = checkpoint.restore(tf.train.latest_checkpoint(config['paths']['to_checkpoint']))"
   ]
  },
  {
   "cell_type": "code",
   "execution_count": null,
   "metadata": {},
   "outputs": [],
   "source": [
    "local_dir = '/media/daniel/DatasetIMDB/imdb_chunks'\n",
    "container_dir = '/workspace/data/tfrecords'\n",
    "\n",
    "full_dataset = load_data_tfrecord(path_to_tfrecord=config['paths']['to_dataset_local'])"
   ]
  },
  {
   "cell_type": "code",
   "execution_count": null,
   "metadata": {},
   "outputs": [],
   "source": [
    "loss_history = {'train_loss': [], 'valid_loss': []}\n",
    "optimizer = tf.keras.optimizers.Adam(learning_rate=config['train']['learning_rate'])\n",
    "\n",
    "for epoch_idx in range(config['train']['num_epochs']):\n",
    "    train_progress_bar = tf.keras.utils.Progbar(config['train']['num_train_samples'])\n",
    "    valid_progress_bar = tf.keras.utils.Progbar(config['train']['num_valid_samples'])\n",
    "\n",
    "    dataset = full_dataset.shuffle(buffer_size=config['train']['shuffle_buffer']).batch(batch_size=config['train']['batch_size'], drop_remainder=True)\n",
    "\n",
    "    epoch_dataset = dataset.take(count=config['train']['num_train_samples']+config['train']['num_valid_samples'])\n",
    "    train_dataset = epoch_dataset.take(count=config['train']['num_train_samples'])\n",
    "    valid_dataset = epoch_dataset.skip(count=config['train']['num_train_samples'])\n",
    "\n",
    "    train_dataset = train_dataset.prefetch(buffer_size=tf.data.AUTOTUNE)\n",
    "    valid_dataset = valid_dataset.prefetch(buffer_size=tf.data.AUTOTUNE)\n",
    "\n",
    "    total_md_loss, total_loss, step = 0, 0, 0\n",
    "    for batch in train_dataset:\n",
    "        logits, coord, label, oh_label = batch\n",
    "        \n",
    "        mini_det_loss, model_loss = train_one_step(\n",
    "                model, optimizer, \n",
    "                tf.reshape(tf.cast(tf.io.decode_raw(logits, tf.uint8), tf.float32), shape=[-1]+config['model']['input_shape']), \n",
    "                tf.concat([label[..., tf.newaxis], oh_label, coord], axis=-1)\n",
    "            )\n",
    "        total_md_loss += mini_det_loss.numpy()\n",
    "        total_loss += model_loss.numpy()\n",
    "\n",
    "        step += 1\n",
    "        train_progress_bar.update(step)\n",
    "        if step == config['train']['num_train_samples']:\n",
    "            break\n",
    "    loss_history['train_loss'].append(\n",
    "        (total_md_loss/config['train']['num_train_samples'], \n",
    "         total_loss/config['train']['num_train_samples'])\n",
    "    )\n",
    "\n",
    "    gc.collect()\n",
    "\n",
    "    total_md_loss, total_loss, step = 0, 0, 0\n",
    "    for batch in valid_dataset:\n",
    "        logits, coord, label, oh_label = batch\n",
    "        \n",
    "        mini_det_loss, model_loss = validate(\n",
    "                model, \n",
    "                tf.reshape(tf.cast(tf.io.decode_raw(logits, tf.uint8), tf.float32), shape=[-1] + config['model']['input_shape']), \n",
    "                tf.concat([label[..., tf.newaxis], oh_label, coord], axis=-1)\n",
    "            )\n",
    "        total_md_loss += mini_det_loss.numpy()\n",
    "        total_loss += model_loss.numpy()\n",
    "\n",
    "        step += 1\n",
    "        valid_progress_bar.update(step)\n",
    "        if step == config['train']['num_valid_samples']:\n",
    "            break\n",
    "    loss_history['valid_loss'].append(\n",
    "        (total_md_loss/config['train']['num_valid_samples'], \n",
    "         total_loss/config['train']['num_valid_samples'])\n",
    "    )\n",
    "    \n",
    "    # Save parameters after each epoch\n",
    "    checkpoint = tf.train.Checkpoint(model=model)\n",
    "    checkpoint_prefix = os.path.join(config['paths']['to_checkpoint'], f'ckpt_{epoch_idx}')\n",
    "    checkpoint.save(file_prefix=checkpoint_prefix)\n",
    "\n",
    "    gc.collect()\n",
    "    tf.keras.backend.clear_session()\n",
    "\n",
    "    latest_ckpt = tf.train.latest_checkpoint(config['paths']['to_checkpoint'])\n",
    "    checkpoint.restore(latest_ckpt)\n",
    "    \n",
    "    print(f'''epoch {epoch_idx+1:>2}: \\n\n",
    "          \\t train_loss: {loss_history[\"train_loss\"][-1][0]:.4f} {loss_history[\"train_loss\"][-1][1]:.4f},\n",
    "          \\t valid loss: {loss_history[\"valid_loss\"][-1][0]:.4f} {loss_history[\"valid_loss\"][-1][1]:.4f}''')\n",
    "    with open(config['paths']['to_loss_records'], mode='w') as fout:\n",
    "        print(f'''epoch {epoch_idx+1:>2}: \\n\n",
    "          \\t train_loss: {loss_history[\"train_loss\"][-1][0]:.4f} {loss_history[\"train_loss\"][-1][1]:.4f},\n",
    "          \\t valid loss: {loss_history[\"valid_loss\"][-1][0]:.4f} {loss_history[\"valid_loss\"][-1][1]:.4f}''', file=fout)"
   ]
  },
  {
   "cell_type": "code",
   "execution_count": null,
   "metadata": {},
   "outputs": [],
   "source": [
    "#model.load_weights('/workspace/models/destr_20')\n",
    "#weights = model.get_weight()\n",
    "#model.set_weights(weights)"
   ]
  }
 ],
 "metadata": {
  "kernelspec": {
   "display_name": "Python 3",
   "language": "python",
   "name": "python3"
  },
  "language_info": {
   "codemirror_mode": {
    "name": "ipython",
    "version": 3
   },
   "file_extension": ".py",
   "mimetype": "text/x-python",
   "name": "python",
   "nbconvert_exporter": "python",
   "pygments_lexer": "ipython3",
   "version": "3.12.4"
  }
 },
 "nbformat": 4,
 "nbformat_minor": 2
}
