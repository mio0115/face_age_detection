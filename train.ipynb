{
 "cells": [
  {
   "cell_type": "code",
   "execution_count": null,
   "metadata": {},
   "outputs": [],
   "source": [
    "import os\n",
    "\n",
    "import cv2\n",
    "import tensorflow as tf\n",
    "import numpy as np\n",
    "import pandas as pd\n",
    "\n",
    "from model.destr_model import ObjDetSplitTransformer, train_one_step, validate\n",
    "from utils.data_loader import load_data_tfrecord"
   ]
  },
  {
   "cell_type": "code",
   "execution_count": null,
   "metadata": {},
   "outputs": [],
   "source": [
    "num_cls = 8\n",
    "EPOCH_NUMS = 20\n",
    "BATCH_SIZE = 8\n",
    "checkpoint_dir = '/workspace/models/checkpoints'\n",
    "\n",
    "train_size = 5000\n",
    "valid_size = 500\n",
    "\n",
    "load_from_ckpt = False"
   ]
  },
  {
   "cell_type": "code",
   "execution_count": null,
   "metadata": {},
   "outputs": [],
   "source": [
    "destr_block = ObjDetSplitTransformer(input_shape=(224, 224, 3), num_cls=num_cls)\n",
    "\n",
    "img = tf.keras.Input(shape=(224, 224, 3), dtype=tf.float32)\n",
    "cls_output, reg_output, total_proposals = destr_block(img)\n",
    "\n",
    "model = tf.keras.Model(inputs=img, outputs=[cls_output, reg_output, total_proposals])"
   ]
  },
  {
   "cell_type": "code",
   "execution_count": null,
   "metadata": {},
   "outputs": [],
   "source": [
    "# Load the weights from latest checkpoint\n",
    "\n",
    "if load_from_ckpt:\n",
    "    checkpoint = tf.train.Checkpoint(model=model)\n",
    "    status = checkpoint.restore(tf.train.latest_checkpoint(checkpoint_dir))"
   ]
  },
  {
   "cell_type": "code",
   "execution_count": null,
   "metadata": {},
   "outputs": [],
   "source": [
    "local_dir = '/media/daniel/DatasetIMDB/imdb_chunks'\n",
    "container_dir = '/workspace/data/tfrecords'\n",
    "\n",
    "full_dataset = load_data_tfrecord(path_to_tfrecord=local_dir)"
   ]
  },
  {
   "cell_type": "code",
   "execution_count": null,
   "metadata": {},
   "outputs": [],
   "source": [
    "loss_history = {'train_loss': [], 'valid_loss': []}\n",
    "optimizers = {'mini_det': tf.keras.optimizers.Adam(learning_rate=0.00001), 'destr': tf.keras.optimizers.Adam(learning_rate=0.00001)}\n",
    "optimizer = tf.keras.optimizers.Adam(learning_rate=0.000001)\n",
    "\n",
    "for epoch_idx in range(10, EPOCH_NUMS+10):\n",
    "    dataset = full_dataset.shuffle(buffer_size=5000).batch(batch_size=BATCH_SIZE, drop_remainder=True)\n",
    "\n",
    "    epoch_dataset = dataset.take(count=train_size+valid_size)\n",
    "    train_dataset = epoch_dataset.take(count=train_size)\n",
    "    valid_dataset = epoch_dataset.skip(count=train_size)\n",
    "\n",
    "    total_md_loss, total_loss, step = 0, 0, 0\n",
    "    for batch in train_dataset:\n",
    "        logits, coord, label, oh_label = batch\n",
    "        \n",
    "        mini_det_loss, model_loss = train_one_step(\n",
    "                model, optimizer, \n",
    "                tf.reshape(tf.cast(tf.io.decode_raw(logits, tf.uint8), tf.float32), (-1, 224, 224, 3)), \n",
    "                tf.concat([label[..., tf.newaxis], oh_label, coord], axis=-1)\n",
    "            )\n",
    "        total_md_loss += mini_det_loss.numpy()\n",
    "        total_loss += model_loss.numpy()\n",
    "\n",
    "        step += 1\n",
    "        if step == train_size:\n",
    "            break\n",
    "    loss_history['train_loss'].append((total_md_loss / train_size, total_loss / train_size))\n",
    "\n",
    "    total_md_loss, total_loss, step = 0, 0, 0\n",
    "    for batch in valid_dataset:\n",
    "        logits, coord, label, oh_label = batch\n",
    "        \n",
    "        mini_det_loss, model_loss = validate(\n",
    "                model, \n",
    "                tf.reshape(tf.cast(tf.io.decode_raw(logits, tf.uint8), tf.float32), (-1, 224, 224, 3)), \n",
    "                tf.concat([label[..., tf.newaxis], oh_label, coord], axis=-1)\n",
    "            )\n",
    "        total_md_loss += mini_det_loss.numpy()\n",
    "        total_loss += model_loss.numpy()\n",
    "\n",
    "        step += 1\n",
    "        if step == valid_size:\n",
    "            break\n",
    "    loss_history['valid_loss'].append((total_md_loss / valid_size, total_loss / valid_size))\n",
    "    \n",
    "    # Save parameters after each epoch\n",
    "    checkpoint = tf.train.Checkpoint(model=model)\n",
    "    checkpoint_prefix = os.path.join(checkpoint_dir, f'ckpt_{epoch_idx}')\n",
    "    checkpoint.save(file_prefix=checkpoint_prefix)\n",
    "    \n",
    "    print(f'''epoch {epoch_idx+1:>2}: \\n\n",
    "          \\t train_loss: {loss_history[\"train_loss\"][-1][0]:.4f} {loss_history[\"train_loss\"][-1][1]:.4f},\n",
    "          \\t valid loss: {loss_history[\"valid_loss\"][-1][0]:.4f} {loss_history[\"valid_loss\"][-1][1]:.4f}''')"
   ]
  },
  {
   "cell_type": "code",
   "execution_count": null,
   "metadata": {},
   "outputs": [],
   "source": [
    "#model.load_weights('/workspace/models/destr_20')\n",
    "#weights = model.get_weight()\n",
    "#model.set_weights(weights)"
   ]
  }
 ],
 "metadata": {
  "kernelspec": {
   "display_name": "Python 3",
   "language": "python",
   "name": "python3"
  },
  "language_info": {
   "codemirror_mode": {
    "name": "ipython",
    "version": 3
   },
   "file_extension": ".py",
   "mimetype": "text/x-python",
   "name": "python",
   "nbconvert_exporter": "python",
   "pygments_lexer": "ipython3",
   "version": "3.12.4"
  }
 },
 "nbformat": 4,
 "nbformat_minor": 2
}
