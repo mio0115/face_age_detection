{
 "cells": [
  {
   "cell_type": "code",
   "execution_count": null,
   "metadata": {},
   "outputs": [],
   "source": [
    "import os\n",
    "from functools import partial\n",
    "from PIL import Image, ImageDraw\n",
    "\n",
    "import tensorflow as tf\n",
    "\n",
    "from src.model.destr_model import build_model\n",
    "from src.utils.bbox_utils import from_cxcyhw_to_xyxy"
   ]
  },
  {
   "cell_type": "code",
   "execution_count": null,
   "metadata": {},
   "outputs": [],
   "source": [
    "model = build_model()\n",
    "checkpoint = tf.train.Checkpoint(model)\n",
    "status = checkpoint.restore(tf.train.latest_checkpoint(\"/workspace/models/checkpoints_6\"))"
   ]
  },
  {
   "cell_type": "code",
   "execution_count": null,
   "metadata": {},
   "outputs": [],
   "source": [
    "def _parse(proto, ft_desc):\n",
    "    parsed_ft = tf.io.parse_single_example(proto, ft_desc)\n",
    "    coord = parsed_ft[\"coord\"]\n",
    "    label = parsed_ft[\"label\"]\n",
    "    oh_label = parsed_ft[\"oh_label\"]\n",
    "    image = parsed_ft[\"logit\"]\n",
    "\n",
    "    return image, coord, label, oh_label\n",
    "\n",
    "def load_data_tfrecord(\n",
    "    path_to_tfrecord=\"/workspace/data/tfrecords\", class_num: int = 8\n",
    "):\n",
    "    tfrecord_files = [\n",
    "        os.path.join(path_to_tfrecord, f)\n",
    "        for f in os.listdir(path_to_tfrecord)\n",
    "        if f.endswith(\".tfrecord\")\n",
    "    ]\n",
    "\n",
    "    feature_description = {\n",
    "        \"logit\": tf.io.FixedLenFeature([], tf.string),\n",
    "        \"label\": tf.io.FixedLenFeature([], tf.float32),\n",
    "        \"oh_label\": tf.io.FixedLenFeature([class_num], tf.float32),\n",
    "        \"coord\": tf.io.FixedLenFeature([4], tf.float32),  # min_x, max_x, min_y, max_y\n",
    "    }\n",
    "    parse_fn = partial(_parse, ft_desc=feature_description)\n",
    "\n",
    "    raw_dataset = tf.data.TFRecordDataset(tfrecord_files)\n",
    "    parsed_dataset = raw_dataset.map(parse_fn)\n",
    "\n",
    "    return parsed_dataset"
   ]
  },
  {
   "cell_type": "code",
   "execution_count": null,
   "metadata": {},
   "outputs": [],
   "source": [
    "ds = load_data_tfrecord().skip(200000).batch(8)"
   ]
  },
  {
   "cell_type": "code",
   "execution_count": null,
   "metadata": {},
   "outputs": [],
   "source": [
    "for batch in ds:\n",
    "    logits, coord, *_ = batch\n",
    "    \n",
    "    images = tf.reshape(tf.cast(tf.io.decode_raw(logits, tf.uint8), tf.float32), shape=(-1, 224, 224, 3))\n",
    "    pred_cls, pred_boxes, *_ = model(images)\n",
    "\n",
    "    break"
   ]
  },
  {
   "cell_type": "code",
   "execution_count": null,
   "metadata": {},
   "outputs": [],
   "source": [
    "idx = 0\n",
    "\n",
    "img = Image.fromarray(tf.cast(images[idx], tf.int8).numpy(), 'RGB')\n",
    "coord = tf.cast(from_cxcyhw_to_xyxy(pred_boxes[idx]) * 224, tf.int32).numpy()"
   ]
  },
  {
   "cell_type": "code",
   "execution_count": null,
   "metadata": {},
   "outputs": [],
   "source": [
    "img_draw = ImageDraw.Draw(img)\n",
    "img_draw.rectangle(list(coord), outline='green')\n",
    "\n",
    "img.show()"
   ]
  }
 ],
 "metadata": {
  "language_info": {
   "name": "python"
  }
 },
 "nbformat": 4,
 "nbformat_minor": 2
}
