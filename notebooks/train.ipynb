{
 "cells": [
  {
   "cell_type": "code",
   "execution_count": 1,
   "metadata": {},
   "outputs": [],
   "source": [
    "import os\n",
    "import sys"
   ]
  },
  {
   "cell_type": "code",
   "execution_count": 2,
   "metadata": {},
   "outputs": [],
   "source": [
    "project_root = os.path.abspath(os.path.join(os.getcwd(), os.pardir))\n",
    "\n",
    "src_path = os.path.join(project_root, 'src')\n",
    "if src_path not in sys.path:\n",
    "    sys.path.append(src_path)"
   ]
  },
  {
   "cell_type": "code",
   "execution_count": 3,
   "metadata": {},
   "outputs": [
    {
     "name": "stderr",
     "output_type": "stream",
     "text": [
      "2024-07-10 18:13:16.562082: I tensorflow/core/platform/cpu_feature_guard.cc:182] This TensorFlow binary is optimized to use available CPU instructions in performance-critical operations.\n",
      "To enable the following instructions: SSE4.1 SSE4.2 AVX AVX2 FMA, in other operations, rebuild TensorFlow with the appropriate compiler flags.\n"
     ]
    },
    {
     "ename": "ModuleNotFoundError",
     "evalue": "No module named 'model.utils'",
     "output_type": "error",
     "traceback": [
      "\u001b[0;31m---------------------------------------------------------------------------\u001b[0m",
      "\u001b[0;31mModuleNotFoundError\u001b[0m                       Traceback (most recent call last)",
      "Cell \u001b[0;32mIn[3], line 6\u001b[0m\n\u001b[1;32m      2\u001b[0m \u001b[38;5;28;01mimport\u001b[39;00m \u001b[38;5;21;01mgc\u001b[39;00m\n\u001b[1;32m      4\u001b[0m \u001b[38;5;28;01mimport\u001b[39;00m \u001b[38;5;21;01mtensorflow\u001b[39;00m \u001b[38;5;28;01mas\u001b[39;00m \u001b[38;5;21;01mtf\u001b[39;00m\n\u001b[0;32m----> 6\u001b[0m \u001b[38;5;28;01mfrom\u001b[39;00m \u001b[38;5;21;01mmodel\u001b[39;00m\u001b[38;5;21;01m.\u001b[39;00m\u001b[38;5;21;01mdestr_model\u001b[39;00m \u001b[38;5;28;01mimport\u001b[39;00m build_model\n\u001b[1;32m      7\u001b[0m \u001b[38;5;28;01mfrom\u001b[39;00m \u001b[38;5;21;01mutils\u001b[39;00m\u001b[38;5;21;01m.\u001b[39;00m\u001b[38;5;21;01mdata_loader\u001b[39;00m \u001b[38;5;28;01mimport\u001b[39;00m load_data_tfrecord\n\u001b[1;32m      8\u001b[0m \u001b[38;5;28;01mfrom\u001b[39;00m \u001b[38;5;21;01mtrain_validate\u001b[39;00m\u001b[38;5;21;01m.\u001b[39;00m\u001b[38;5;21;01mtrain\u001b[39;00m \u001b[38;5;28;01mimport\u001b[39;00m train_one_step\n",
      "File \u001b[0;32m~/cv_project/face_age_detection/src/model/destr_model.py:5\u001b[0m\n\u001b[1;32m      2\u001b[0m \u001b[38;5;28;01mfrom\u001b[39;00m \u001b[38;5;21;01mtensorflow\u001b[39;00m\u001b[38;5;21;01m.\u001b[39;00m\u001b[38;5;21;01mkeras\u001b[39;00m\u001b[38;5;21;01m.\u001b[39;00m\u001b[38;5;21;01mlayers\u001b[39;00m \u001b[38;5;28;01mimport\u001b[39;00m LayerNormalization, Conv2D\n\u001b[1;32m      3\u001b[0m \u001b[38;5;28;01mfrom\u001b[39;00m \u001b[38;5;21;01mtensorflow\u001b[39;00m\u001b[38;5;21;01m.\u001b[39;00m\u001b[38;5;21;01mkeras\u001b[39;00m\u001b[38;5;21;01m.\u001b[39;00m\u001b[38;5;21;01mmodels\u001b[39;00m \u001b[38;5;28;01mimport\u001b[39;00m Sequential\n\u001b[0;32m----> 5\u001b[0m \u001b[38;5;28;01mfrom\u001b[39;00m \u001b[38;5;21;01m.\u001b[39;00m\u001b[38;5;21;01mblocks\u001b[39;00m\u001b[38;5;21;01m.\u001b[39;00m\u001b[38;5;21;01mencoder_block\u001b[39;00m \u001b[38;5;28;01mimport\u001b[39;00m EncoderBlock\n\u001b[1;32m      6\u001b[0m \u001b[38;5;28;01mfrom\u001b[39;00m \u001b[38;5;21;01m.\u001b[39;00m\u001b[38;5;21;01mblocks\u001b[39;00m\u001b[38;5;21;01m.\u001b[39;00m\u001b[38;5;21;01mmini_detector\u001b[39;00m \u001b[38;5;28;01mimport\u001b[39;00m MiniDetector\n\u001b[1;32m      7\u001b[0m \u001b[38;5;28;01mfrom\u001b[39;00m \u001b[38;5;21;01m.\u001b[39;00m\u001b[38;5;21;01mblocks\u001b[39;00m\u001b[38;5;21;01m.\u001b[39;00m\u001b[38;5;21;01mdecoder_block\u001b[39;00m \u001b[38;5;28;01mimport\u001b[39;00m DecoderBlock\n",
      "File \u001b[0;32m~/cv_project/face_age_detection/src/model/blocks/encoder_block.py:4\u001b[0m\n\u001b[1;32m      1\u001b[0m \u001b[38;5;28;01mimport\u001b[39;00m \u001b[38;5;21;01mtensorflow\u001b[39;00m \u001b[38;5;28;01mas\u001b[39;00m \u001b[38;5;21;01mtf\u001b[39;00m\n\u001b[1;32m      2\u001b[0m \u001b[38;5;28;01mfrom\u001b[39;00m \u001b[38;5;21;01mtensorflow\u001b[39;00m\u001b[38;5;21;01m.\u001b[39;00m\u001b[38;5;21;01mkeras\u001b[39;00m\u001b[38;5;21;01m.\u001b[39;00m\u001b[38;5;21;01mlayers\u001b[39;00m \u001b[38;5;28;01mimport\u001b[39;00m Dense, Dropout, LayerNormalization\n\u001b[0;32m----> 4\u001b[0m \u001b[38;5;28;01mfrom\u001b[39;00m \u001b[38;5;21;01m.\u001b[39;00m\u001b[38;5;21;01m.\u001b[39;00m\u001b[38;5;21;01mattention\u001b[39;00m\u001b[38;5;21;01m.\u001b[39;00m\u001b[38;5;21;01mself_attention\u001b[39;00m \u001b[38;5;28;01mimport\u001b[39;00m SelfAttention\n\u001b[1;32m      7\u001b[0m \u001b[38;5;28;01mclass\u001b[39;00m \u001b[38;5;21;01mEncoderBlock\u001b[39;00m(tf\u001b[38;5;241m.\u001b[39mkeras\u001b[38;5;241m.\u001b[39mlayers\u001b[38;5;241m.\u001b[39mLayer):\n\u001b[1;32m      8\u001b[0m     \u001b[38;5;28;01mdef\u001b[39;00m \u001b[38;5;21m__init__\u001b[39m(\n\u001b[1;32m      9\u001b[0m         \u001b[38;5;28mself\u001b[39m,\n\u001b[1;32m     10\u001b[0m         input_shape,\n\u001b[0;32m   (...)\u001b[0m\n\u001b[1;32m     16\u001b[0m         \u001b[38;5;241m*\u001b[39m\u001b[38;5;241m*\u001b[39mkwargs,\n\u001b[1;32m     17\u001b[0m     ):\n",
      "File \u001b[0;32m~/cv_project/face_age_detection/src/model/attention/self_attention.py:4\u001b[0m\n\u001b[1;32m      1\u001b[0m \u001b[38;5;28;01mimport\u001b[39;00m \u001b[38;5;21;01mtensorflow\u001b[39;00m \u001b[38;5;28;01mas\u001b[39;00m \u001b[38;5;21;01mtf\u001b[39;00m\n\u001b[1;32m      2\u001b[0m \u001b[38;5;28;01mfrom\u001b[39;00m \u001b[38;5;21;01mtensorflow\u001b[39;00m\u001b[38;5;21;01m.\u001b[39;00m\u001b[38;5;21;01mkeras\u001b[39;00m\u001b[38;5;21;01m.\u001b[39;00m\u001b[38;5;21;01mlayers\u001b[39;00m \u001b[38;5;28;01mimport\u001b[39;00m Dense\n\u001b[0;32m----> 4\u001b[0m \u001b[38;5;28;01mfrom\u001b[39;00m \u001b[38;5;21;01m.\u001b[39;00m\u001b[38;5;21;01m.\u001b[39;00m\u001b[38;5;21;01mutils\u001b[39;00m\u001b[38;5;21;01m.\u001b[39;00m\u001b[38;5;21;01mpositional_encoding\u001b[39;00m \u001b[38;5;28;01mimport\u001b[39;00m gen_sineembed_for_position\n\u001b[1;32m      7\u001b[0m \u001b[38;5;28;01mclass\u001b[39;00m \u001b[38;5;21;01mSelfAttention\u001b[39;00m(tf\u001b[38;5;241m.\u001b[39mkeras\u001b[38;5;241m.\u001b[39mlayers\u001b[38;5;241m.\u001b[39mLayer):\n\u001b[1;32m      8\u001b[0m     \u001b[38;5;28;01mdef\u001b[39;00m \u001b[38;5;21m__init__\u001b[39m(\n\u001b[1;32m      9\u001b[0m         \u001b[38;5;28mself\u001b[39m,\n\u001b[1;32m     10\u001b[0m         heads_num,\n\u001b[0;32m   (...)\u001b[0m\n\u001b[1;32m     16\u001b[0m         \u001b[38;5;241m*\u001b[39m\u001b[38;5;241m*\u001b[39mkwargs,\n\u001b[1;32m     17\u001b[0m     ):\n",
      "\u001b[0;31mModuleNotFoundError\u001b[0m: No module named 'model.utils'"
     ]
    }
   ],
   "source": [
    "import json\n",
    "import gc\n",
    "\n",
    "import tensorflow as tf\n",
    "\n",
    "from model.destr_model import build_model\n",
    "from utils.data_loader import load_data_tfrecord\n",
    "from train_validate.train import train_one_step\n",
    "from train_validate.validate import validate"
   ]
  },
  {
   "cell_type": "code",
   "execution_count": null,
   "metadata": {},
   "outputs": [],
   "source": [
    "with open('../config.json', 'r') as fin:\n",
    "    config = json.load(fin)"
   ]
  },
  {
   "cell_type": "code",
   "execution_count": null,
   "metadata": {},
   "outputs": [],
   "source": [
    "#destr_block = ObjDetSplitTransformer(input_shape=config['model']['input_shape'], num_cls=config['model']['num_class'])\n",
    "#img = tf.keras.Input(shape=config['model']['input_shape'], dtype=tf.float32)\n",
    "#cls_output, reg_output, total_proposals = destr_block(img)\n",
    "#model = tf.keras.Model(inputs=img, outputs=[cls_output, reg_output, total_proposals])\n",
    "\n",
    "model = build_model(config)"
   ]
  },
  {
   "cell_type": "code",
   "execution_count": null,
   "metadata": {},
   "outputs": [],
   "source": [
    "# Load the weights from latest checkpoint\n",
    "\n",
    "checkpoint = tf.train.Checkpoint(model=model)\n",
    "checkpoint_manager = tf.train.CheckpointManager(checkpoint=checkpoint, directory=config['paths']['to_checkpoint'], max_to_keep=1)\n",
    "\n",
    "load_from_ckpt = False\n",
    "if load_from_ckpt:\n",
    "    status = checkpoint.restore(checkpoint_manager.latest_checkpoint)"
   ]
  },
  {
   "cell_type": "code",
   "execution_count": null,
   "metadata": {},
   "outputs": [],
   "source": [
    "loss_history = {'train_loss': (0, 0), 'valid_loss': (0, 0)}\n",
    "optimizer = tf.keras.optimizers.Adam(learning_rate=config['train']['learning_rate'])\n",
    "full_dataset = load_data_tfrecord(path_to_tfrecord=config['paths']['to_dataset_local'])\n",
    "\n",
    "train_progress_bar = tf.keras.utils.Progbar(config['train']['num_train_samples'])\n",
    "valid_progress_bar = tf.keras.utils.Progbar(config['train']['num_valid_samples'])\n",
    "\n",
    "for epoch_idx in range(config['train']['num_epochs']):\n",
    "    dataset = full_dataset.shuffle(buffer_size=config['train']['shuffle_buffer']).batch(batch_size=config['train']['batch_size'], drop_remainder=True)\n",
    "\n",
    "    train_dataset = dataset.take(count=config['train']['num_train_samples']).prefetch(buffer_size=tf.data.AUTOTUNE)\n",
    "    valid_dataset = dataset.skip(count=config['train']['num_train_samples']).prefetch(buffer_size=tf.data.AUTOTUNE)\n",
    "\n",
    "    total_md_loss, total_loss, step = 0, 0, 0\n",
    "    for batch in train_dataset:\n",
    "        logits, coord, label, oh_label = batch\n",
    "        \n",
    "        mini_det_loss, model_loss = train_one_step(\n",
    "                model, optimizer, \n",
    "                tf.reshape(tf.cast(tf.io.decode_raw(logits, tf.uint8), tf.float32), shape=[-1]+config['model']['input_shape']), \n",
    "                tf.concat([label[..., tf.newaxis], oh_label, coord], axis=-1)\n",
    "            )\n",
    "        total_md_loss += mini_det_loss.numpy()\n",
    "        total_loss += model_loss.numpy()\n",
    "\n",
    "        step += 1\n",
    "        train_progress_bar.update(step)\n",
    "        if step == config['train']['num_train_samples']:\n",
    "            avg_mini_det_loss = total_md_loss / config['train']['num_train_samples']\n",
    "            avg_model_loss = total_loss / config['train']['num_train_samples']\n",
    "            break\n",
    "    loss_history['train_loss'] = (avg_mini_det_loss, avg_model_loss)\n",
    "\n",
    "    del dataset, train_dataset\n",
    "    gc.collect()\n",
    "\n",
    "    total_md_loss, total_loss, step = 0, 0, 0\n",
    "    for batch in valid_dataset:\n",
    "        logits, coord, label, oh_label = batch\n",
    "        \n",
    "        mini_det_loss, model_loss = validate(\n",
    "                model, \n",
    "                tf.reshape(tf.cast(tf.io.decode_raw(logits, tf.uint8), tf.float32), shape=[-1] + config['model']['input_shape']), \n",
    "                tf.concat([label[..., tf.newaxis], oh_label, coord], axis=-1)\n",
    "            )\n",
    "        total_md_loss += mini_det_loss.numpy()\n",
    "        total_loss += model_loss.numpy()\n",
    "\n",
    "        step += 1\n",
    "        valid_progress_bar.update(step)\n",
    "        if step == config['train']['num_valid_samples']:\n",
    "            avg_mini_det_loss = total_md_loss / config['train']['num_valid_samples']\n",
    "            avg_model_loss = total_loss / config['train']['num_valid_samples']\n",
    "            break\n",
    "    loss_history['valid_loss'] = (avg_mini_det_loss, avg_model_loss)\n",
    "    \n",
    "    # Save parameters after each epoch\n",
    "    checkpoint_manager.save()\n",
    "    \n",
    "    del valid_dataset\n",
    "    tf.keras.backend.clear_session()\n",
    "    gc.collect()\n",
    "\n",
    "    print(f'''epoch {epoch_idx+1:>2}: \\n\n",
    "          \\t train_loss: {loss_history[\"train_loss\"][0]:.4f} {loss_history[\"train_loss\"][1]:.4f},\n",
    "          \\t valid loss: {loss_history[\"valid_loss\"][0]:.4f} {loss_history[\"valid_loss\"][1]:.4f}''')\n",
    "    with open(config['paths']['to_loss_records'], mode='w') as fout:\n",
    "        print(f'''epoch {epoch_idx+1:>2}: \\n\n",
    "          \\t train_loss: {loss_history[\"train_loss\"][0]:.4f} {loss_history[\"train_loss\"][1]:.4f},\n",
    "          \\t valid loss: {loss_history[\"valid_loss\"][0]:.4f} {loss_history[\"valid_loss\"][1]:.4f}''', file=fout)"
   ]
  },
  {
   "cell_type": "code",
   "execution_count": null,
   "metadata": {},
   "outputs": [],
   "source": [
    "#model.load_weights('/workspace/models/destr_20')\n",
    "#weights = model.get_weight()\n",
    "#model.set_weights(weights)"
   ]
  }
 ],
 "metadata": {
  "kernelspec": {
   "display_name": "Python 3",
   "language": "python",
   "name": "python3"
  },
  "language_info": {
   "codemirror_mode": {
    "name": "ipython",
    "version": 3
   },
   "file_extension": ".py",
   "mimetype": "text/x-python",
   "name": "python",
   "nbconvert_exporter": "python",
   "pygments_lexer": "ipython3",
   "version": "3.11.5"
  }
 },
 "nbformat": 4,
 "nbformat_minor": 2
}
