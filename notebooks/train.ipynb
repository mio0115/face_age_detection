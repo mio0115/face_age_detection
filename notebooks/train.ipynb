{
 "cells": [
  {
   "cell_type": "code",
   "execution_count": null,
   "metadata": {},
   "outputs": [],
   "source": [
    "import os\n",
    "import sys"
   ]
  },
  {
   "cell_type": "code",
   "execution_count": null,
   "metadata": {},
   "outputs": [],
   "source": [
    "project_root = os.path.abspath(os.path.join(os.getcwd(), os.pardir))\n",
    "\n",
    "src_path = os.path.join(project_root, 'src')\n",
    "if src_path not in sys.path:\n",
    "    sys.path.append(src_path)"
   ]
  },
  {
   "cell_type": "code",
   "execution_count": null,
   "metadata": {},
   "outputs": [],
   "source": [
    "import json\n",
    "import gc\n",
    "\n",
    "import tensorflow as tf\n",
    "\n",
    "from model.destr_model import ObjDetSplitTransformer, train_one_step, validate\n",
    "from model.utils.data_loader import load_data_tfrecord"
   ]
  },
  {
   "cell_type": "code",
   "execution_count": null,
   "metadata": {},
   "outputs": [],
   "source": [
    "with open('../config.json', 'r') as fin:\n",
    "    config = json.load(fin)"
   ]
  },
  {
   "cell_type": "code",
   "execution_count": null,
   "metadata": {},
   "outputs": [],
   "source": [
    "destr_block = ObjDetSplitTransformer(input_shape=config['model']['input_shape'], num_cls=config['model']['num_class'])\n",
    "\n",
    "img = tf.keras.Input(shape=config['model']['input_shape'], dtype=tf.float32)\n",
    "cls_output, reg_output, total_proposals = destr_block(img)\n",
    "\n",
    "model = tf.keras.Model(inputs=img, outputs=[cls_output, reg_output, total_proposals])"
   ]
  },
  {
   "cell_type": "code",
   "execution_count": null,
   "metadata": {},
   "outputs": [],
   "source": [
    "# Load the weights from latest checkpoint\n",
    "\n",
    "checkpoint = tf.train.Checkpoint(model=model)\n",
    "checkpoint_manager = tf.train.CheckpointManager(checkpoint=checkpoint, directory=config['paths']['to_checkpoint'], max_to_keep=1)\n",
    "\n",
    "load_from_ckpt = False\n",
    "if load_from_ckpt:\n",
    "    status = checkpoint.restore(checkpoint_manager.latest_checkpoint)"
   ]
  },
  {
   "cell_type": "code",
   "execution_count": null,
   "metadata": {},
   "outputs": [],
   "source": [
    "loss_history = {'train_loss': (0, 0), 'valid_loss': (0, 0)}\n",
    "optimizer = tf.keras.optimizers.Adam(learning_rate=config['train']['learning_rate'])\n",
    "full_dataset = load_data_tfrecord(path_to_tfrecord=config['paths']['to_dataset_local'])\n",
    "\n",
    "train_progress_bar = tf.keras.utils.Progbar(config['train']['num_train_samples'])\n",
    "valid_progress_bar = tf.keras.utils.Progbar(config['train']['num_valid_samples'])\n",
    "\n",
    "for epoch_idx in range(config['train']['num_epochs']):\n",
    "    dataset = full_dataset.shuffle(buffer_size=config['train']['shuffle_buffer']).batch(batch_size=config['train']['batch_size'], drop_remainder=True)\n",
    "\n",
    "    train_dataset = dataset.take(count=config['train']['num_train_samples']).prefetch(buffer_size=tf.data.AUTOTUNE)\n",
    "    valid_dataset = dataset.skip(count=config['train']['num_train_samples']).prefetch(buffer_size=tf.data.AUTOTUNE)\n",
    "\n",
    "    total_md_loss, total_loss, step = 0, 0, 0\n",
    "    for batch in train_dataset:\n",
    "        logits, coord, label, oh_label = batch\n",
    "        \n",
    "        mini_det_loss, model_loss = train_one_step(\n",
    "                model, optimizer, \n",
    "                tf.reshape(tf.cast(tf.io.decode_raw(logits, tf.uint8), tf.float32), shape=[-1]+config['model']['input_shape']), \n",
    "                tf.concat([label[..., tf.newaxis], oh_label, coord], axis=-1)\n",
    "            )\n",
    "        total_md_loss += mini_det_loss.numpy()\n",
    "        total_loss += model_loss.numpy()\n",
    "\n",
    "        step += 1\n",
    "        train_progress_bar.update(step)\n",
    "        if step == config['train']['num_train_samples']:\n",
    "            avg_mini_det_loss = total_md_loss / config['train']['num_train_samples']\n",
    "            avg_model_loss = total_loss / config['train']['num_train_samples']\n",
    "            break\n",
    "    loss_history['train_loss'] = (avg_mini_det_loss, avg_model_loss)\n",
    "\n",
    "    del dataset, train_dataset\n",
    "    gc.collect()\n",
    "\n",
    "    total_md_loss, total_loss, step = 0, 0, 0\n",
    "    for batch in valid_dataset:\n",
    "        logits, coord, label, oh_label = batch\n",
    "        \n",
    "        mini_det_loss, model_loss = validate(\n",
    "                model, \n",
    "                tf.reshape(tf.cast(tf.io.decode_raw(logits, tf.uint8), tf.float32), shape=[-1] + config['model']['input_shape']), \n",
    "                tf.concat([label[..., tf.newaxis], oh_label, coord], axis=-1)\n",
    "            )\n",
    "        total_md_loss += mini_det_loss.numpy()\n",
    "        total_loss += model_loss.numpy()\n",
    "\n",
    "        step += 1\n",
    "        valid_progress_bar.update(step)\n",
    "        if step == config['train']['num_valid_samples']:\n",
    "            avg_mini_det_loss = total_md_loss / config['train']['num_valid_samples']\n",
    "            avg_model_loss = total_loss / config['train']['num_valid_samples']\n",
    "            break\n",
    "    loss_history['valid_loss'] = (avg_mini_det_loss, avg_model_loss)\n",
    "    \n",
    "    # Save parameters after each epoch\n",
    "    checkpoint_manager.save()\n",
    "    \n",
    "    del valid_dataset\n",
    "    tf.keras.backend.clear_session()\n",
    "    gc.collect()\n",
    "\n",
    "    print(f'''epoch {epoch_idx+1:>2}: \\n\n",
    "          \\t train_loss: {loss_history[\"train_loss\"][0]:.4f} {loss_history[\"train_loss\"][1]:.4f},\n",
    "          \\t valid loss: {loss_history[\"valid_loss\"][0]:.4f} {loss_history[\"valid_loss\"][1]:.4f}''')\n",
    "    with open(config['paths']['to_loss_records'], mode='w') as fout:\n",
    "        print(f'''epoch {epoch_idx+1:>2}: \\n\n",
    "          \\t train_loss: {loss_history[\"train_loss\"][0]:.4f} {loss_history[\"train_loss\"][1]:.4f},\n",
    "          \\t valid loss: {loss_history[\"valid_loss\"][0]:.4f} {loss_history[\"valid_loss\"][1]:.4f}''', file=fout)"
   ]
  },
  {
   "cell_type": "code",
   "execution_count": null,
   "metadata": {},
   "outputs": [],
   "source": [
    "#model.load_weights('/workspace/models/destr_20')\n",
    "#weights = model.get_weight()\n",
    "#model.set_weights(weights)"
   ]
  }
 ],
 "metadata": {
  "kernelspec": {
   "display_name": "Python 3",
   "language": "python",
   "name": "python3"
  },
  "language_info": {
   "codemirror_mode": {
    "name": "ipython",
    "version": 3
   },
   "file_extension": ".py",
   "mimetype": "text/x-python",
   "name": "python",
   "nbconvert_exporter": "python",
   "pygments_lexer": "ipython3",
   "version": "3.11.5"
  }
 },
 "nbformat": 4,
 "nbformat_minor": 2
}
