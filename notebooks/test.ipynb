{
 "cells": [
  {
   "cell_type": "code",
   "execution_count": null,
   "metadata": {},
   "outputs": [],
   "source": [
    "import os\n",
    "from functools import partial\n",
    "\n",
    "import tensorflow as tf"
   ]
  },
  {
   "cell_type": "code",
   "execution_count": null,
   "metadata": {},
   "outputs": [],
   "source": [
    "def _parse(proto, ft_desc):\n",
    "    parsed_ft = tf.io.parse_single_example(proto, ft_desc)\n",
    "    coord = parsed_ft[\"coord\"]\n",
    "    label = parsed_ft[\"label\"]\n",
    "    oh_label = parsed_ft[\"oh_label\"]\n",
    "    image = parsed_ft[\"logit\"]\n",
    "\n",
    "    return image, coord, label, oh_label\n",
    "\n",
    "def load_data_tfrecord(\n",
    "    path_to_tfrecord=\"/media/daniel/DatasetIMDB/imdb_chunks\", class_num: int = 8\n",
    "):\n",
    "    tfrecord_files = [\n",
    "        os.path.join(path_to_tfrecord, f)\n",
    "        for f in os.listdir(path_to_tfrecord)\n",
    "        if f.endswith(\".tfrecord\")\n",
    "    ]\n",
    "\n",
    "    feature_description = {\n",
    "        \"logit\": tf.io.FixedLenFeature([], tf.string),\n",
    "        \"label\": tf.io.FixedLenFeature([], tf.float32),\n",
    "        \"oh_label\": tf.io.FixedLenFeature([class_num], tf.float32),\n",
    "        \"coord\": tf.io.FixedLenFeature([4], tf.float32),  # min_x, max_x, min_y, max_y\n",
    "    }\n",
    "    parse_fn = partial(_parse, ft_desc=feature_description)\n",
    "\n",
    "    raw_dataset = tf.data.TFRecordDataset(tfrecord_files)\n",
    "    parsed_dataset = raw_dataset.map(parse_fn)\n",
    "\n",
    "    return parsed_dataset"
   ]
  },
  {
   "cell_type": "code",
   "execution_count": null,
   "metadata": {},
   "outputs": [],
   "source": [
    "for batch in load_data_tfrecord():\n",
    "    logits, coord, *_ = batch\n",
    "\n",
    "    print(tf.reshape(\n",
    "        tf.cast(tf.io.decode_raw(logits, tf.uint8), tf.float32),\n",
    "        shape=(-1,) + (224, 224, 3),\n",
    "    ))\n",
    "\n",
    "    print(coord)\n",
    "    break"
   ]
  },
  {
   "cell_type": "code",
   "execution_count": null,
   "metadata": {},
   "outputs": [],
   "source": []
  }
 ],
 "metadata": {
  "kernelspec": {
   "display_name": "cv_projects",
   "language": "python",
   "name": "python3"
  },
  "language_info": {
   "codemirror_mode": {
    "name": "ipython",
    "version": 3
   },
   "file_extension": ".py",
   "mimetype": "text/x-python",
   "name": "python",
   "nbconvert_exporter": "python",
   "pygments_lexer": "ipython3",
   "version": "3.11.5"
  }
 },
 "nbformat": 4,
 "nbformat_minor": 2
}
